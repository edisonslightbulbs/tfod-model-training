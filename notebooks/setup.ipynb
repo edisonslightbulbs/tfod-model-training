{
 "cells": [
  {
   "cell_type": "markdown",
   "id": "83c653b6-2b0a-4f6d-8f09-f4a0bcdbfa9c",
   "metadata": {},
   "source": [
    " # Setup \n"
   ]
  },
  {
   "cell_type": "code",
   "execution_count": null,
   "id": "33121869-94c2-4a3d-9a0e-53d55a469fc7",
   "metadata": {},
   "outputs": [],
   "source": [
    "import os\n",
    "import sys\n",
    "import git\n",
    "import json\n",
    "import shutil\n",
    "import zipfile\n",
    "import tarfile\n",
    "import requests\n",
    "\n",
    "repo = git.Repo(\".\", search_parent_directories=True)\n",
    "rootdir = repo.git.rev_parse(\"--show-toplevel\")"
   ]
  },
  {
   "cell_type": "markdown",
   "id": "0bafad78-0c9d-4d35-a7f8-84ac451ac968",
   "metadata": {},
   "source": [
    " #### Load project parameters\n"
   ]
  },
  {
   "cell_type": "code",
   "execution_count": null,
   "id": "241d7713-3a6b-47a7-b3a8-616c60de58a7",
   "metadata": {},
   "outputs": [],
   "source": [
    "path = os.path.join(rootdir, \"config.json\")\n",
    "with open(path, \"r\") as file:\n",
    "    parameters = json.load(file)"
   ]
  },
  {
   "cell_type": "markdown",
   "id": "7f859495-2a65-4a44-bcec-af2fbc3014bc",
   "metadata": {},
   "source": [
    " #### Check environment \n"
   ]
  },
  {
   "cell_type": "code",
   "execution_count": null,
   "id": "b68c7ac1-4bd2-4fa5-9cea-e2b23b54ea2e",
   "metadata": {},
   "outputs": [],
   "source": [
    "os.system('conda env list')\n",
    "print(f'work directory: {rootdir}')\n",
    "print(f'python environment: {sys.version}')"
   ]
  },
  {
   "cell_type": "markdown",
   "id": "fb0102b8-b26e-4fdb-9995-dee56fed51d1",
   "metadata": {},
   "source": [
    " #### Setup work directories\n"
   ]
  },
  {
   "cell_type": "code",
   "execution_count": null,
   "id": "1e9f6b61-6f18-454f-b2e1-a9f8e3f54d29",
   "metadata": {},
   "outputs": [],
   "source": [
    "dirs = {'protoc': os.path.join(rootdir, 'res', 'protoc'),\n",
    "        'pretrained model': os.path.join(rootdir, 'models', 'pre-trained'),\n",
    "        'tensorflow': os.path.join(rootdir, 'external','Tensorflow', 'models')}\n",
    "\n",
    "for k,v in dirs.items():\n",
    "    print(f'{k} directory: {v}')\n",
    "    if not os.path.exists(v):\n",
    "        os.makedirs(v, exist_ok=True)"
   ]
  },
  {
   "cell_type": "markdown",
   "id": "d274ac34-7fda-4d68-acdc-32e6f4b83398",
   "metadata": {},
   "source": [
    " #### Clone tensorflow models\n"
   ]
  },
  {
   "cell_type": "code",
   "execution_count": null,
   "id": "ca003433-a082-4d9a-81a0-b60356f0e8b6",
   "metadata": {},
   "outputs": [],
   "source": [
    "directory = dirs['tensorflow']\n",
    "if not os.path.exists(os.path.join(directory, 'research', 'object_detection')):\n",
    "    repository = 'https://github.com/tensorflow/models'\n",
    "    print(f'cloning {repository} ...')\n",
    "    os.system(f'git clone {repository} {directory}')"
   ]
  },
  {
   "cell_type": "markdown",
   "id": "ab05ae59-88fe-42a3-9f05-7ba6cce7f3c2",
   "metadata": {},
   "source": [
    " download-and-extract helper \n"
   ]
  },
  {
   "cell_type": "code",
   "execution_count": null,
   "id": "abe1c91b-da66-4089-9f51-ac7a90082335",
   "metadata": {},
   "outputs": [],
   "source": [
    "def download(url, filename):\n",
    "    with requests.get(url) as response:\n",
    "        ext = os.path.splitext(filename)[1]\n",
    "    \n",
    "        with open(filename, 'wb') as file:\n",
    "            file.write(response.content)\n",
    "    \n",
    "        if ext == '.zip':\n",
    "            with zipfile.ZipFile(filename, 'r') as zip:\n",
    "                zip.extractall()\n",
    "    \n",
    "        if ext == '.gz':\n",
    "            with tarfile.open(filename, 'r') as tar:\n",
    "                tar.extractall()"
   ]
  },
  {
   "cell_type": "markdown",
   "id": "9ba74c52-8fab-4917-a7c0-4b464e036298",
   "metadata": {},
   "source": [
    " #### Setup tensorflow\n"
   ]
  },
  {
   "cell_type": "code",
   "execution_count": null,
   "id": "2f148b87-9372-4d2d-9040-1edf3a8ddafe",
   "metadata": {},
   "outputs": [],
   "source": [
    "directory = dirs['protoc']\n",
    "os.chdir(directory)\n",
    "\n",
    "print('downloading protoc.exe ...')\n",
    "url = \"https://github.com/protocolbuffers/protobuf/releases/download/v3.15.6/protoc-3.15.6-win64.zip\"\n",
    "filename = 'protoc-3.15.6-win64.zip'\n",
    "download(url, filename)\n",
    "\n",
    "print('appending protoc.exe to environment PATH ...')\n",
    "os.environ['PATH'] += os.pathsep + os.path.abspath(os.path.join(os.getcwd(), 'bin'))\n",
    "\n",
    "directory = os.path.join(dirs['tensorflow'], 'research')\n",
    "os.chdir(directory)\n",
    "\n",
    "print('compiling and installing protocol buffer files ...')\n",
    "os.system('protoc object_detection/protos/*.proto --python_out=.')\n",
    "os.system('pip install .')\n",
    "\n",
    "print('building and installing tensorflow ...')\n",
    "dst =  os.path.join(directory, 'setup.py')\n",
    "src = os.path.join(directory, 'object_detection', 'packages', 'tf2', 'setup.py')\n",
    "shutil.copy(src, dst)\n",
    "\n",
    "os.system('python setup.py build')\n",
    "os.system('python setup.py install')\n",
    "\n",
    "print('installing tensorflow\\'s slim library ...')\n",
    "os.chdir(os.path.join(directory,  'slim'))\n",
    "os.system('pip install -e .')\n",
    "\n",
    "os.chdir(os.path.join(directory, 'object_detection', 'builders'))\n",
    "\n",
    "print('testing object detection model builder ...')\n",
    "script = os.path.join(directory, 'object_detection', 'builders', 'model_builder_tf2_test.py')\n",
    "os.system(f'python {script}')"
   ]
  },
  {
   "cell_type": "markdown",
   "id": "db802a44-d8a8-4954-9b26-c38f1b4ea767",
   "metadata": {},
   "source": [
    " #### Verify CUDA & CUDNN versions\n"
   ]
  },
  {
   "cell_type": "code",
   "execution_count": null,
   "id": "630b2cb8-bb87-40ec-8024-a57e5e8cca5c",
   "metadata": {},
   "outputs": [],
   "source": [
    "import torch\n",
    "import tensorflow as tf\n",
    "\n",
    "msg = 'check https://www.tensorflow.org/install/source_windows to ensure tallying CUDA and CUDNN versions are installed'\n",
    "print(msg)\n",
    "print(f'tensorflow: {tf.__version__}')\n",
    "print(f'cuda: {torch.version.cuda}')\n",
    "print(f'cudnn: {torch.backends.cudnn.version()}')"
   ]
  },
  {
   "cell_type": "markdown",
   "id": "9d440252-bb3c-45e2-854b-a8a14a78fca5",
   "metadata": {},
   "source": [
    " #### Smoke test object detection module\n"
   ]
  },
  {
   "cell_type": "code",
   "execution_count": null,
   "id": "18c66831-f674-4ea6-9ba2-78886b3bee2f",
   "metadata": {},
   "outputs": [],
   "source": [
    "import object_detection"
   ]
  },
  {
   "cell_type": "markdown",
   "id": "198ab8b1-6f52-4f64-8b4a-68eb902cd11a",
   "metadata": {},
   "source": [
    " #### Download pre-trained model\n"
   ]
  },
  {
   "cell_type": "code",
   "execution_count": null,
   "id": "60064380-67b0-4d4f-bd50-0a300dfd5424",
   "metadata": {},
   "outputs": [],
   "source": [
    "directory = os.path.join(rootdir, 'res')\n",
    "os.chdir(directory)\n",
    "pretrained_model_name = parameters['pretrained model']['name']\n",
    "pretrained_model_url = parameters['pretrained model']['url']\n",
    "\n",
    "# @todo: clever way of determining the file extension from url\n",
    "download(url=pretrained_model_url, filename=f'{pretrained_model_name}.tar.gz')\n",
    "\n",
    "src = pretrained_model_name\n",
    "dst = os.path.join(dirs['pretrained model'], pretrained_model_name)\n",
    "\n",
    "try:\n",
    "    shutil.copytree(src, dst)\n",
    "except FileExistsError:\n",
    "    pass"
   ]
  }
 ],
 "metadata": {
  "kernelspec": {
   "display_name": "tfod",
   "language": "python",
   "name": "tfod"
  },
  "language_info": {
   "codemirror_mode": {
    "name": "ipython",
    "version": 3
   },
   "file_extension": ".py",
   "mimetype": "text/x-python",
   "name": "python",
   "nbconvert_exporter": "python",
   "pygments_lexer": "ipython3",
   "version": "3.9.0"
  },
  "nbformat": 4,
  "nbformat_minor": 5
 },
 "nbformat": 4,
 "nbformat_minor": 5
}
