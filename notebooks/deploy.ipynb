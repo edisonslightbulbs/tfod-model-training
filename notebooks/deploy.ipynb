{
 "cells": [
  {
   "cell_type": "markdown",
   "id": "1c1ca049-01eb-4183-b0d5-cd2e96b89cf6",
   "metadata": {},
   "source": [
    " # Deploy\n"
   ]
  },
  {
   "cell_type": "code",
   "execution_count": 1,
   "id": "7a5f7c2a-982d-448e-8b53-177ffa7bb62a",
   "metadata": {},
   "outputs": [],
   "source": [
    "import os\n",
    "import git\n",
    "\n",
    "repo = git.Repo(\".\", search_parent_directories=True)\n",
    "rootdir = repo.git.rev_parse(\"--show-toplevel\")"
   ]
  },
  {
   "cell_type": "markdown",
   "id": "6120f9e9-799b-4ad3-b2db-5b7fd0017a77",
   "metadata": {},
   "source": [
    " #### Setup work directories\n"
   ]
  },
  {
   "cell_type": "code",
   "execution_count": 2,
   "id": "ba7108d3-e0e2-4228-8ebf-80feabaf51e7",
   "metadata": {},
   "outputs": [
    {
     "name": "stdout",
     "output_type": "stream",
     "text": [
      "export directory: C:/Users/zoemthun/Desktop/projects/tfod\\models\\export\n",
      "deploy directory: C:/Users/zoemthun/Desktop/projects/tfod\\models\\deploy\n",
      "trained model directory: C:/Users/zoemthun/Desktop/projects/tfod\\models\\trained\n",
      "tfjs model directory: C:/Users/zoemthun/Desktop/projects/tfod\\models\\deploy\\tfjs\n",
      "tflite model directory: C:/Users/zoemthun/Desktop/projects/tfod\\models\\deploy\\tflite\n",
      "tensorflow directory: C:/Users/zoemthun/Desktop/projects/tfod\\external\\Tensorflow\\models\n"
     ]
    }
   ],
   "source": [
    "dirs = {'export': os.path.join(rootdir, 'models', 'export'),\n",
    "        'deploy': os.path.join(rootdir, 'models', 'deploy'),\n",
    "        'trained model': os.path.join(rootdir, 'models', 'trained'),\n",
    "        'tfjs model': os.path.join(rootdir, 'models', 'deploy', 'tfjs'),\n",
    "        'tflite model': os.path.join(rootdir, 'models', 'deploy', 'tflite'),\n",
    "        'tensorflow': os.path.join(rootdir, 'external','Tensorflow', 'models')}\n",
    "\n",
    "for k,v in dirs.items():\n",
    "    print(f'{k} directory: {v}')\n",
    "    if not os.path.exists(v):\n",
    "        os.makedirs(v, exist_ok=True)"
   ]
  },
  {
   "cell_type": "markdown",
   "id": "90a6b10a-ea16-4a9c-b623-15401b29fd97",
   "metadata": {},
   "source": [
    " #### Freeze graph\n"
   ]
  },
  {
   "cell_type": "code",
   "execution_count": 3,
   "id": "857e3a35-63b8-48ac-a9f3-072457c2f412",
   "metadata": {},
   "outputs": [
    {
     "data": {
      "text/plain": [
       "0"
      ]
     },
     "execution_count": 3,
     "metadata": {},
     "output_type": "execute_result"
    }
   ],
   "source": [
    "tensor = 'image_tensor'\n",
    "exportdir = os.path.join(dirs['export'])\n",
    "trained_modeldir = os.path.join(dirs['trained model'])\n",
    "pipeconfig = os.path.join(dirs['trained model'], 'pipeline.config')\n",
    "script = os.path.join(dirs['tensorflow'], 'research', 'object_detection', 'exporter_main_v2.py')\n",
    "\n",
    "cmd = f'python {script} --input_type={tensor} --pipeline_config_path={pipeconfig} --trained_checkpoint_dir={trained_modeldir} --output_directory={exportdir}'\n",
    "os.system(cmd)"
   ]
  },
  {
   "cell_type": "markdown",
   "id": "01764bb8-9491-45b1-9f4d-94ddda7223a7",
   "metadata": {},
   "source": [
    " #### Export TFJS format\n"
   ]
  },
  {
   "cell_type": "code",
   "execution_count": 4,
   "id": "f72ab4b2-4864-4379-9517-1e4953b81b0f",
   "metadata": {},
   "outputs": [
    {
     "data": {
      "text/plain": [
       "0"
      ]
     },
     "execution_count": 4,
     "metadata": {},
     "output_type": "execute_result"
    }
   ],
   "source": [
    "input_format = 'tf_saved_model'\n",
    "output_format = 'tfjs_graph_model'\n",
    "tfjs_modeldir = os.path.join(dirs['tfjs model'])\n",
    "\n",
    "nodes = ['detection_boxes',\n",
    "         'detection_classes',\n",
    "         'detection_features',\n",
    "         'detection_multiclass_scores',\n",
    "         'detection_scores',\n",
    "         'num_detections',\n",
    "         'raw_detection_boxes',\n",
    "         'raw_detection_scores']\n",
    "\n",
    "output_nodes = ','.join(nodes)\n",
    "frozen_modeldir = os.path.join(exportdir, 'saved_model')\n",
    "name = f'serving_default {frozen_modeldir} {tfjs_modeldir}'\n",
    "\n",
    "exe = 'tensorflowjs_converter'\n",
    "cmd = f'{exe} --input_format={input_format} --output_node_names={output_nodes} --output_format={output_format} --signature_name={name}'\n",
    "\n",
    "os.system(cmd)"
   ]
  },
  {
   "cell_type": "markdown",
   "id": "d70713f9-8815-43f7-bbf9-b69d58130928",
   "metadata": {},
   "source": [
    " #### Export TFLite format\n"
   ]
  },
  {
   "cell_type": "code",
   "execution_count": 5,
   "id": "8f503551-de52-4e39-8ab9-fe0b434ea551",
   "metadata": {},
   "outputs": [
    {
     "data": {
      "text/plain": [
       "0"
      ]
     },
     "execution_count": 5,
     "metadata": {},
     "output_type": "execute_result"
    }
   ],
   "source": [
    "tflite_modeldir = os.path.join(dirs['tflite model'])\n",
    "tflite_model = os.path.join(tflite_modeldir, 'detect.tflite')\n",
    "script = os.path.join(dirs['tensorflow'], 'research', 'object_detection', 'export_tflite_graph_tf2.py ')\n",
    "\n",
    "cmd = f'python {script} --pipeline_config_path={pipeconfig} --trained_checkpoint_dir={trained_modeldir} --output_directory={tflite_modeldir}'\n",
    "os.system(cmd)\n",
    "\n",
    "shapes = '1,300,300,3'\n",
    "arrays = ['TFLite_Detection_PostProcess',\n",
    "          'TFLite_Detection_PostProcess:1',\n",
    "          'TFLite_Detection_PostProcess:2',\n",
    "          'TFLite_Detection_PostProcess:3']\n",
    "\n",
    "output_arrays = ','.join(arrays)\n",
    "input_arrays = 'normalized_input_image_tensor'\n",
    "params = '--inference_type=FLOAT --allow_custom_ops'\n",
    "frozen_modeldir = os.path.join(tflite_modeldir, 'saved_model')\n",
    "\n",
    "exe = 'tflite_convert'\n",
    "cmd = f'{exe} --saved_model_dir={frozen_modeldir} --output_file={tflite_model} --input_shapes={shapes} --input_arrays={input_arrays} --output_arrays={output_arrays} {params}'\n",
    "os.system(cmd)"
   ]
  },
  {
   "cell_type": "code",
   "execution_count": null,
   "id": "b74d9d5b",
   "metadata": {},
   "outputs": [],
   "source": []
  }
 ],
 "metadata": {
  "kernelspec": {
   "display_name": "deploy",
   "language": "python",
   "name": "deploy"
  },
  "language_info": {
   "codemirror_mode": {
    "name": "ipython",
    "version": 3
   },
   "file_extension": ".py",
   "mimetype": "text/x-python",
   "name": "python",
   "nbconvert_exporter": "python",
   "pygments_lexer": "ipython3",
   "version": "3.9.0"
  },
  "nbformat": 4,
  "nbformat_minor": 5
 },
 "nbformat": 4,
 "nbformat_minor": 5
}
