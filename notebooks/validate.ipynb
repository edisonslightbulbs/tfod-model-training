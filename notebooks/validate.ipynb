{
 "cells": [
  {
   "cell_type": "markdown",
   "id": "23d29bc9-0d53-4899-9651-eb123d268fcc",
   "metadata": {},
   "source": [
    " # Smoke test\n"
   ]
  },
  {
   "cell_type": "code",
   "execution_count": null,
   "id": "e3091eb7-1567-4498-91ff-d2b7c07db2f0",
   "metadata": {},
   "outputs": [],
   "source": [
    "import os\n",
    "import git\n",
    "import cv2\n",
    "import json\n",
    "import glob\n",
    "import numpy as np\n",
    "\n",
    "import tensorflow as tf\n",
    "from object_detection.utils import config_util\n",
    "from object_detection.utils import label_map_util\n",
    "from object_detection.builders import model_builder\n",
    "from object_detection.utils import visualization_utils as viz_utils\n",
    "\n",
    "#\n",
    "# import pyplot and sets up the notebook \n",
    "# environment to display the plots inline\n",
    "from matplotlib import pyplot as plt\n",
    "try:\n",
    "    ipy = str(type(get_ipython()))\n",
    "    if 'zmqshell' in ipy or 'terminal' in ipy:\n",
    "        get_ipython().run_line_magic('matplotlib', 'inline')\n",
    "\n",
    "except NameError:\n",
    "    import matplotlib\n",
    "\n",
    "    #\n",
    "    # iff not in notebook, active GUI backend for plot.show()\n",
    "    #\n",
    "    matplotlib.use('TkAgg')\n",
    "\n",
    "repo = git.Repo(\".\", search_parent_directories=True)\n",
    "rootdir = repo.git.rev_parse(\"--show-toplevel\")"
   ]
  },
  {
   "cell_type": "markdown",
   "id": "95fe243e-cf48-40d1-bef4-2db96a59f4a6",
   "metadata": {},
   "source": [
    " #### Load project parameters\n"
   ]
  },
  {
   "cell_type": "code",
   "execution_count": null,
   "id": "3d7a8683-f719-4921-9a1d-10e17002486e",
   "metadata": {},
   "outputs": [],
   "source": [
    "path = os.path.join(rootdir, \"config.json\")\n",
    "with open(path, \"r\") as file:\n",
    "    parameters = json.load(file)"
   ]
  },
  {
   "cell_type": "markdown",
   "id": "9a635df4-368d-4714-993d-c4ae661b92f8",
   "metadata": {},
   "source": [
    " #### Setup work directories\n"
   ]
  },
  {
   "cell_type": "code",
   "execution_count": null,
   "id": "c3d06e4a-f4f9-4522-96b7-ae15b1044145",
   "metadata": {},
   "outputs": [],
   "source": [
    "dirs = {'data': os.path.join(rootdir, 'data'),\n",
    "        'labels': os.path.join(rootdir, 'data', 'labels'),\n",
    "        'trained model': os.path.join(rootdir, 'models', 'trained')}\n",
    "\n",
    "for k, v in dirs.items():\n",
    "    print(f'{k} directory: {v}')\n",
    "    if not os.path.exists(v):\n",
    "        os.makedirs(v, exist_ok=True)"
   ]
  },
  {
   "cell_type": "markdown",
   "id": "fb424b80-9ad7-4bdb-ad96-77ff5094a8f8",
   "metadata": {},
   "source": [
    " #### Load model checkpoint\n"
   ]
  },
  {
   "cell_type": "code",
   "execution_count": null,
   "id": "82e979de-3d57-43fa-b7f9-c3d2c4a58751",
   "metadata": {},
   "outputs": [],
   "source": [
    "path = os.path.join(dirs['trained model'], 'pipeline.config')\n",
    "pipeline = config_util.get_configs_from_pipeline_file(path)\n",
    "\n",
    "model = model_builder.build(model_config=pipeline['model'], is_training=False)\n",
    "\n",
    "ckpt = parameters['trained model']['ckpt']\n",
    "checkpoint = tf.compat.v2.train.Checkpoint(model=model)\n",
    "checkpoint.restore(os.path.join(dirs['trained model'], f'ckpt-{ckpt}')).expect_partial()\n",
    "\n",
    "labelmap = os.path.join(dirs['labels'], 'map.pbtxt')\n",
    "category_index = label_map_util.create_category_index_from_labelmap(labelmap)"
   ]
  },
  {
   "cell_type": "markdown",
   "id": "87cb68ea-65aa-4d49-be32-0b2cc424b99c",
   "metadata": {},
   "source": [
    " tensorflow object detection method\n"
   ]
  },
  {
   "cell_type": "code",
   "execution_count": null,
   "id": "c2e970ea-ff67-486e-8b88-71fc05134d87",
   "metadata": {},
   "outputs": [],
   "source": [
    "@tf.function\n",
    "def detect_fn(image):\n",
    "    image, shapes = model.preprocess(image)\n",
    "    prediction = model.predict(image, shapes)\n",
    "    detections = model.postprocess(prediction, shapes)\n",
    "    return detections"
   ]
  },
  {
   "cell_type": "markdown",
   "id": "81012c79-a8e8-4401-b038-7d2ba5cebecb",
   "metadata": {},
   "source": [
    " object-detection helper\n"
   ]
  },
  {
   "cell_type": "code",
   "execution_count": null,
   "id": "d3355a93-0d9f-4d9b-9647-331afb6a4568",
   "metadata": {},
   "outputs": [],
   "source": [
    "def detect(img):\n",
    "    tensor = tf.convert_to_tensor(np.expand_dims(img, 0), dtype=tf.float32)\n",
    "    detections = detect_fn(tensor)\n",
    "\n",
    "    count = int(detections.pop('num_detections'))\n",
    "    detections = {key: value[0, :count].numpy() for key, value in detections.items()}\n",
    "\n",
    "    detections['num_detections'] = count\n",
    "    detections['detection_classes'] = detections['detection_classes'].astype(np.int64)\n",
    "\n",
    "    img_objects = img.copy()\n",
    "    viz_utils.visualize_boxes_and_labels_on_image_array(img_objects,\n",
    "                                                        detections['detection_boxes'],\n",
    "                                                        detections['detection_classes'] + 1,\n",
    "                                                        detections['detection_scores'],\n",
    "                                                        category_index,\n",
    "                                                        use_normalized_coordinates=True,\n",
    "                                                        max_boxes_to_draw=5,\n",
    "                                                        min_score_thresh=.8,\n",
    "                                                        agnostic_mode=False)\n",
    "\n",
    "    return img_objects"
   ]
  },
  {
   "cell_type": "markdown",
   "id": "7987fd14-27f4-41b7-ac13-e3d02c77f8a2",
   "metadata": {},
   "source": [
    " #### Image-object detection\n"
   ]
  },
  {
   "cell_type": "code",
   "execution_count": null,
   "id": "8692c9fa-7f04-40e6-baca-a25dff95d6bd",
   "metadata": {},
   "outputs": [],
   "source": [
    "ext = parameters['image format']\n",
    "imgs = glob.glob(os.path.join(dirs['data'], 'test', f'*.{ext}'))\n",
    "for img in imgs:\n",
    "    cv_img = cv2.imread(img)\n",
    "    np_img = np.array(cv_img)\n",
    "\n",
    "    np_img_objects = detect(np_img)\n",
    "    plt.imshow(cv2.cvtColor(np_img_objects, cv2.COLOR_BGR2RGB))\n",
    "    plt.show()"
   ]
  }
 ],
 "metadata": {
  "kernelspec": {
   "display_name": "tfod",
   "language": "python",
   "name": "tfod"
  },
  "language_info": {
   "codemirror_mode": {
    "name": "ipython",
    "version": 3
   },
   "file_extension": ".py",
   "mimetype": "text/x-python",
   "name": "python",
   "nbconvert_exporter": "python",
   "pygments_lexer": "ipython3",
   "version": "3.9.0"
  },
  "nbformat": 4,
  "nbformat_minor": 5
 },
 "nbformat": 4,
 "nbformat_minor": 5
}
